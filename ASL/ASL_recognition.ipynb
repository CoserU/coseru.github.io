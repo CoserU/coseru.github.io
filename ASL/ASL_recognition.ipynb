{
  "nbformat": 4,
  "nbformat_minor": 0,
  "metadata": {
    "colab": {
      "name": "ASL_recognition.ipynb",
      "version": "0.3.2",
      "provenance": [],
      "collapsed_sections": []
    },
    "kernelspec": {
      "name": "python3",
      "display_name": "Python 3"
    },
    "accelerator": "GPU"
  },
  "cells": [
    {
      "cell_type": "markdown",
      "metadata": {
        "id": "S7Pozv7Tuikk",
        "colab_type": "text"
      },
      "source": [
        "First, we make sure that the Colab runtime type is Python 3 with GPU. Then we download the dataset to Colab."
      ]
    },
    {
      "cell_type": "code",
      "metadata": {
        "id": "zMXTXOiqH9IM",
        "colab_type": "code",
        "outputId": "52568d06-dc7a-4455-b14d-438aee48b1e5",
        "colab": {
          "base_uri": "https://localhost:8080/",
          "height": 289
        }
      },
      "source": [
        "!wget https://github.com/CoserU/coseru.github.io/raw/master/ASLtest/dataset_ASL.zip"
      ],
      "execution_count": 0,
      "outputs": [
        {
          "output_type": "stream",
          "text": [
            "--2019-04-19 02:04:53--  https://github.com/CoserU/coseru.github.io/raw/master/ASLtest/dataset_ASL.zip\n",
            "Resolving github.com (github.com)... 192.30.253.113, 192.30.253.112\n",
            "Connecting to github.com (github.com)|192.30.253.113|:443... connected.\n",
            "HTTP request sent, awaiting response... 302 Found\n",
            "Location: https://raw.githubusercontent.com/CoserU/coseru.github.io/master/ASLtest/dataset_ASL.zip [following]\n",
            "--2019-04-19 02:04:53--  https://raw.githubusercontent.com/CoserU/coseru.github.io/master/ASLtest/dataset_ASL.zip\n",
            "Resolving raw.githubusercontent.com (raw.githubusercontent.com)... 151.101.0.133, 151.101.64.133, 151.101.128.133, ...\n",
            "Connecting to raw.githubusercontent.com (raw.githubusercontent.com)|151.101.0.133|:443... connected.\n",
            "HTTP request sent, awaiting response... 200 OK\n",
            "Length: 92794349 (88M) [application/zip]\n",
            "Saving to: ‘dataset_ASL.zip’\n",
            "\n",
            "dataset_ASL.zip     100%[===================>]  88.50M   154MB/s    in 0.6s    \n",
            "\n",
            "2019-04-19 02:04:54 (154 MB/s) - ‘dataset_ASL.zip’ saved [92794349/92794349]\n",
            "\n"
          ],
          "name": "stdout"
        }
      ]
    },
    {
      "cell_type": "code",
      "metadata": {
        "id": "gTEmsoIsulGR",
        "colab_type": "code",
        "colab": {}
      },
      "source": [
        "!unzip -q dataset_ASL.zip"
      ],
      "execution_count": 0,
      "outputs": []
    },
    {
      "cell_type": "markdown",
      "metadata": {
        "id": "UlmeOiKdudDx",
        "colab_type": "text"
      },
      "source": [
        "# Preparing the Data"
      ]
    },
    {
      "cell_type": "markdown",
      "metadata": {
        "id": "qejXX4I_A2Yo",
        "colab_type": "text"
      },
      "source": [
        "Import tensorflow, Keras layers and other packages."
      ]
    },
    {
      "cell_type": "code",
      "metadata": {
        "id": "1ZlQJIhVAlgh",
        "colab_type": "code",
        "colab": {}
      },
      "source": [
        "import tensorflow as tf\n",
        "from tensorflow.keras.layers import Input, Dense, Conv2D, DepthwiseConv2D, Flatten, BatchNormalization, ReLU, AveragePooling2D, Add\n",
        "\n",
        "import os\n",
        "import numpy as np\n",
        "from matplotlib import pyplot as plt\n",
        "%matplotlib inline"
      ],
      "execution_count": 0,
      "outputs": []
    },
    {
      "cell_type": "markdown",
      "metadata": {
        "id": "u3cN_VTnA7Qu",
        "colab_type": "text"
      },
      "source": [
        "Now let’s take a look at the images. They are of different sizes and different aspect ratios."
      ]
    },
    {
      "cell_type": "code",
      "metadata": {
        "id": "byoPwMHTA489",
        "colab_type": "code",
        "outputId": "1472833c-c7b0-4294-be20-3b5381567232",
        "colab": {
          "base_uri": "https://localhost:8080/",
          "height": 269
        }
      },
      "source": [
        "# Training directory and validation directory\n",
        "train_path = 'dataset_ASL/train/'\n",
        "valid_path = 'dataset_ASL/validation/'\n",
        "\n",
        "def show_image_from_path(data_path, alphabet):\n",
        "    folder_path = os.path.join(data_path, alphabet)\n",
        "    img_files = os.listdir(folder_path)\n",
        "    img_file = img_files[np.random.choice(len(img_files), 1)[0]]\n",
        "    img = plt.imread(os.path.join(folder_path, img_file))\n",
        "    plt.imshow(img)\n",
        "    \n",
        "# Show a image randomly picked with label 'a'\n",
        "show_image_from_path(train_path, 'a')"
      ],
      "execution_count": 0,
      "outputs": [
        {
          "output_type": "display_data",
          "data": {
            "image/png": "[encoded data removed]",
            "text/plain": [
              "<Figure size 432x288 with 1 Axes>"
            ]
          },
          "metadata": {
            "tags": []
          }
        }
      ]
    },
    {
      "cell_type": "markdown",
      "metadata": {
        "id": "ysA6VDIfBXFn",
        "colab_type": "text"
      },
      "source": [
        "There are 24 fingerspelled alphabets in the dataset. We need to convert the alphabetical labels to integer labels for model training."
      ]
    },
    {
      "cell_type": "code",
      "metadata": {
        "id": "03Zrf8CFBHGF",
        "colab_type": "code",
        "outputId": "61fb701b-a0de-43e5-8b70-60ded84fd402",
        "colab": {
          "base_uri": "https://localhost:8080/",
          "height": 71
        }
      },
      "source": [
        "# Alphabet to integer\n",
        "alphabet2int = {}\n",
        "for i, char in enumerate('abcdefghiklmnopqrstuvwxy'):\n",
        "    alphabet2int[char] = i\n",
        "print(alphabet2int)\n",
        "\n",
        "# Integer to alphabet\n",
        "int2alphabet = {val: key for key, val in alphabet2int.items()}\n",
        "print(int2alphabet)"
      ],
      "execution_count": 0,
      "outputs": [
        {
          "output_type": "stream",
          "text": [
            "{'a': 0, 'b': 1, 'c': 2, 'd': 3, 'e': 4, 'f': 5, 'g': 6, 'h': 7, 'i': 8, 'k': 9, 'l': 10, 'm': 11, 'n': 12, 'o': 13, 'p': 14, 'q': 15, 'r': 16, 's': 17, 't': 18, 'u': 19, 'v': 20, 'w': 21, 'x': 22, 'y': 23}\n",
            "{0: 'a', 1: 'b', 2: 'c', 3: 'd', 4: 'e', 5: 'f', 6: 'g', 7: 'h', 8: 'i', 9: 'k', 10: 'l', 11: 'm', 12: 'n', 13: 'o', 14: 'p', 15: 'q', 16: 'r', 17: 's', 18: 't', 19: 'u', 20: 'v', 21: 'w', 22: 'x', 23: 'y'}\n"
          ],
          "name": "stdout"
        }
      ]
    },
    {
      "cell_type": "markdown",
      "metadata": {
        "id": "070tFRH7BdIY",
        "colab_type": "text"
      },
      "source": [
        "Here, we will use the `tf.data` API to preprocess the images and build the training/validation datasets. First we get the paths for all images and the corresponding integer labels."
      ]
    },
    {
      "cell_type": "code",
      "metadata": {
        "id": "K7SQxkXhBcTq",
        "colab_type": "code",
        "colab": {}
      },
      "source": [
        "# Get the image paths and the corresponding integer labels\n",
        "def get_paths_labels(data_path):\n",
        "    paths = []\n",
        "    labels = []\n",
        "    for class_folder in os.listdir(data_path):\n",
        "        folder_path = os.path.join(data_path, class_folder)\n",
        "        label = alphabet2int[class_folder]\n",
        "        for img_path in os.listdir(folder_path):\n",
        "            paths.append(os.path.join(folder_path, img_path))\n",
        "            labels.append(label)\n",
        "    return np.array(paths), np.array(labels)\n",
        "\n",
        "train_paths, train_labels = get_paths_labels(train_path)\n",
        "valid_paths, valid_labels = get_paths_labels(valid_path)"
      ],
      "execution_count": 0,
      "outputs": []
    },
    {
      "cell_type": "markdown",
      "metadata": {
        "id": "wt46pCuYBlxE",
        "colab_type": "text"
      },
      "source": [
        "Then we randomly shuffle the training paths/labels and validation paths/labels."
      ]
    },
    {
      "cell_type": "code",
      "metadata": {
        "id": "OkEGjoAYBjYE",
        "colab_type": "code",
        "outputId": "62b3a878-f93f-4ecf-c20d-d2a9f37a77eb",
        "colab": {
          "base_uri": "https://localhost:8080/",
          "height": 51
        }
      },
      "source": [
        "# Shuffle the paths/labels\n",
        "p = np.random.permutation(len(train_labels))\n",
        "train_paths, train_labels = train_paths[p], train_labels[p]\n",
        "\n",
        "p = np.random.permutation(len(valid_labels))\n",
        "valid_paths, valid_labels = valid_paths[p], valid_labels[p]\n",
        "\n",
        "n_train, n_valid = len(train_labels), len(valid_labels)\n",
        "print('The size of the training set is {}'.format(n_train)) # 2400 images\n",
        "print('The size of the validation set is {}'.format(n_valid)) # 600 images"
      ],
      "execution_count": 0,
      "outputs": [
        {
          "output_type": "stream",
          "text": [
            "The size of the training set is 2400\n",
            "The size of the validation set is 600\n"
          ],
          "name": "stdout"
        }
      ]
    },
    {
      "cell_type": "markdown",
      "metadata": {
        "id": "f8OAYP4VBqP0",
        "colab_type": "text"
      },
      "source": [
        "Here we set the size of the input image as 224*224 for MobileNetV2. For simplicity, we assume the image mean is 0.5 for preprocessing and use 32 as the batch size for both training and validation."
      ]
    },
    {
      "cell_type": "code",
      "metadata": {
        "id": "mCyP01T4Bn45",
        "colab_type": "code",
        "colab": {}
      },
      "source": [
        "image_size = 224\n",
        "RGB_mean = np.array([0.5, 0.5, 0.5])\n",
        "BATCH_SIZE = 32"
      ],
      "execution_count": 0,
      "outputs": []
    },
    {
      "cell_type": "markdown",
      "metadata": {
        "id": "32TnxjmPByAw",
        "colab_type": "text"
      },
      "source": [
        "#Training Dataset"
      ]
    },
    {
      "cell_type": "markdown",
      "metadata": {
        "id": "M4uM0WFvB-cg",
        "colab_type": "text"
      },
      "source": [
        "Preprocessing steps for training:\n",
        "\n",
        "* Decode the png-encoded image.\n",
        "* Resize the image to 256*256 with padding to keep the same aspect ratio.\n",
        "* Randomly crop the image to 224*224. The camera sometimes cannot capture the whole gesture, so this data augmentation method lets our model to learn to predict without a complete gesture.\n",
        "* Randomly flip the image horizontally to learn both right-handed and left-handed gestures.\n",
        "* Normalize the image tensor."
      ]
    },
    {
      "cell_type": "code",
      "metadata": {
        "id": "SqocsxMaBu2t",
        "colab_type": "code",
        "outputId": "b9c26b5f-dcbe-420d-88f0-c35be3542009",
        "colab": {
          "base_uri": "https://localhost:8080/",
          "height": 88
        }
      },
      "source": [
        "# Load and preprocess the images for the training dataset\n",
        "def preprocess_train_image(image):\n",
        "    image = tf.image.decode_png(image, channels=3)\n",
        "    image = tf.image.resize_image_with_pad(image, 256, 256)\n",
        "    image = tf.image.random_crop(image, [image_size, image_size, 3])\n",
        "    image = tf.image.random_flip_left_right(image)\n",
        "    image /= 255.0\n",
        "    image -= RGB_mean\n",
        "    return image\n",
        "\n",
        "def load_and_preprocess_train_image(path):\n",
        "    image = tf.read_file(path)\n",
        "    return preprocess_train_image(image)\n",
        "\n",
        "train_path_ds = tf.data.Dataset.from_tensor_slices(train_paths)\n",
        "train_image_ds = train_path_ds.map(load_and_preprocess_train_image)\n",
        "train_label_ds = tf.data.Dataset.from_tensor_slices(train_labels)\n",
        "\n",
        "# Zip the images and labels together\n",
        "train_image_label_ds = tf.data.Dataset.zip((train_image_ds, train_label_ds))"
      ],
      "execution_count": 0,
      "outputs": [
        {
          "output_type": "stream",
          "text": [
            "WARNING:tensorflow:From /usr/local/lib/python3.6/dist-packages/tensorflow/python/ops/control_flow_ops.py:3632: colocate_with (from tensorflow.python.framework.ops) is deprecated and will be removed in a future version.\n",
            "Instructions for updating:\n",
            "Colocations handled automatically by placer.\n"
          ],
          "name": "stdout"
        }
      ]
    },
    {
      "cell_type": "markdown",
      "metadata": {
        "id": "wY68I7JMCOJe",
        "colab_type": "text"
      },
      "source": [
        "Then we set the buffer size and the batch size for training."
      ]
    },
    {
      "cell_type": "code",
      "metadata": {
        "id": "CpWdw7coCMA1",
        "colab_type": "code",
        "colab": {}
      },
      "source": [
        "# Prepare for training\n",
        "tr_ds = train_image_label_ds.repeat()\n",
        "tr_ds = tr_ds.shuffle(buffer_size=1000)\n",
        "tr_ds = tr_ds.batch(BATCH_SIZE)\n",
        "tr_ds = tr_ds.prefetch(1)"
      ],
      "execution_count": 0,
      "outputs": []
    },
    {
      "cell_type": "markdown",
      "metadata": {
        "id": "EUawxMOTCV9X",
        "colab_type": "text"
      },
      "source": [
        "#Validation Dataset"
      ]
    },
    {
      "cell_type": "markdown",
      "metadata": {
        "id": "sO1N0wweCX6B",
        "colab_type": "text"
      },
      "source": [
        "Preprocessing steps for validation:\n",
        "\n",
        "* Decode the png-encoded image.\n",
        "* Resize the image to 224*224 with padding to keep the same aspect ratio.\n",
        "* Normalize the image tensor."
      ]
    },
    {
      "cell_type": "code",
      "metadata": {
        "id": "7jL3Puk2CTfG",
        "colab_type": "code",
        "colab": {}
      },
      "source": [
        "# Load and preprocess the images for the validation dataset\n",
        "def preprocess_test_image(image):\n",
        "    image = tf.image.decode_png(image, channels=3)\n",
        "    image = tf.image.resize_image_with_pad(image, image_size, image_size)\n",
        "    image /= 255.0\n",
        "    image -= RGB_mean\n",
        "    return image\n",
        "\n",
        "def load_and_preprocess_test_image(path):\n",
        "    image = tf.read_file(path)\n",
        "    return preprocess_test_image(image)\n",
        "\n",
        "valid_path_ds = tf.data.Dataset.from_tensor_slices(valid_paths)\n",
        "valid_image_ds = valid_path_ds.map(load_and_preprocess_test_image)\n",
        "valid_label_ds = tf.data.Dataset.from_tensor_slices(valid_labels)\n",
        "\n",
        "# Zip the images and labels together\n",
        "valid_image_label_ds = tf.data.Dataset.zip((valid_image_ds, valid_label_ds))"
      ],
      "execution_count": 0,
      "outputs": []
    },
    {
      "cell_type": "markdown",
      "metadata": {
        "id": "7w9LxzoqCcgV",
        "colab_type": "text"
      },
      "source": [
        "Then we set the buffer size and the batch size for validation."
      ]
    },
    {
      "cell_type": "code",
      "metadata": {
        "id": "o9uLXmdUCbrE",
        "colab_type": "code",
        "colab": {}
      },
      "source": [
        "# Prepare for validation\n",
        "va_ds = valid_image_label_ds.repeat()\n",
        "va_ds = va_ds.shuffle(buffer_size=1000)\n",
        "va_ds = va_ds.batch(BATCH_SIZE)\n",
        "va_ds = va_ds.prefetch(1)"
      ],
      "execution_count": 0,
      "outputs": []
    },
    {
      "cell_type": "markdown",
      "metadata": {
        "id": "GbUrb1wTCgHr",
        "colab_type": "text"
      },
      "source": [
        "#MobileNetV2"
      ]
    },
    {
      "cell_type": "markdown",
      "metadata": {
        "id": "7kOzNQdjCiJD",
        "colab_type": "text"
      },
      "source": [
        "In this tutorial, we will use Keras functional API to implement MobileNetV2 as our model (just for fun!) However, if you are interested in transfer learning, you can download a pre-trained MobileNetV2 directly from [Keras applications](https://keras.io/applications/#mobilenetv2) instead of writing the model from scratch."
      ]
    },
    {
      "cell_type": "code",
      "metadata": {
        "id": "wTge-4TtCe1M",
        "colab_type": "code",
        "colab": {}
      },
      "source": [
        "def ConvBNReLU(inputs, o, kernel_size=3, strides=1, dwise=False, bn=True, relu=True):\n",
        "    padding = 'same'\n",
        "    if dwise:\n",
        "        x = DepthwiseConv2D(kernel_size=kernel_size, padding=padding, strides=strides, use_bias=not bn)(inputs)\n",
        "    else:\n",
        "        x = Conv2D(o, kernel_size=kernel_size, padding=padding, strides=strides, use_bias=not bn)(inputs)\n",
        "\n",
        "    if bn:\n",
        "        x = BatchNormalization()(x)\n",
        "\n",
        "    if relu:\n",
        "        x = ReLU()(x)\n",
        "\n",
        "    return x\n",
        "\n",
        "\n",
        "def BottleNeck(inputs, i, o, expansion, strides):\n",
        "    add_residual = strides == 1 and i == o\n",
        "    x = ConvBNReLU(inputs, i*expansion, kernel_size=1)\n",
        "    x = ConvBNReLU(x, i*expansion, strides=strides, dwise=True)\n",
        "    x = ConvBNReLU(x, o, kernel_size=1, relu=False)\n",
        "    \n",
        "    if add_residual:\n",
        "        x = Add()([x, inputs])\n",
        "\n",
        "    return x\n",
        "\n",
        "\n",
        "def MobileNetV2(inputs, n_classes, width_multiplier=1.):\n",
        "    bottleneck_params = [\n",
        "        # t, c, n, s\n",
        "        [1, 16, 1, 1],\n",
        "        [6, 24, 2, 2],\n",
        "        [6, 32, 3, 2],\n",
        "        [6, 64, 4, 2],\n",
        "        [6, 96, 3, 1],\n",
        "        [6, 160, 3, 2],\n",
        "        [6, 320, 1, 1],\n",
        "    ]\n",
        "\n",
        "    input_channel = int(32*width_multiplier)\n",
        "    for param in bottleneck_params:\n",
        "        param[1] = int(param[1]*width_multiplier)\n",
        "\n",
        "    x = ConvBNReLU(inputs, input_channel, strides=2)\n",
        "\n",
        "    for (t, c, n, s) in bottleneck_params:\n",
        "        x = BottleNeck(x, input_channel, c, t, s)\n",
        "        for _ in range(n-1):\n",
        "            x = BottleNeck(x, c, c, t, 1)\n",
        "        input_channel = c\n",
        "\n",
        "    x = ConvBNReLU(x, int(1280*width_multiplier), kernel_size=1)\n",
        "    x = AveragePooling2D(pool_size=7, padding='same')(x)\n",
        "    x = Flatten()(x)\n",
        "    out = Dense(n_classes, activation='softmax')(x)\n",
        "    \n",
        "    return tf.keras.Model(inputs=inputs, outputs=out)"
      ],
      "execution_count": 0,
      "outputs": []
    },
    {
      "cell_type": "markdown",
      "metadata": {
        "id": "G1HxLLyNCmyg",
        "colab_type": "text"
      },
      "source": [
        "The model will take inputs of the shape [N, 224, 224, 3] and outputs probabilities of the shape [N, 24], where N is the batch size."
      ]
    },
    {
      "cell_type": "code",
      "metadata": {
        "id": "pNW-RMX2Cj3H",
        "colab_type": "code",
        "outputId": "bb997909-a0b0-4a68-dfa5-27cab14a1480",
        "colab": {
          "base_uri": "https://localhost:8080/",
          "height": 5627
        }
      },
      "source": [
        "model = MobileNetV2(Input(shape=(image_size,image_size,3)), len(alphabet2int))\n",
        "model.summary()"
      ],
      "execution_count": 0,
      "outputs": [
        {
          "output_type": "stream",
          "text": [
            "Model: \"model\"\n",
            "__________________________________________________________________________________________________\n",
            "Layer (type)                    Output Shape         Param #     Connected to                     \n",
            "==================================================================================================\n",
            "input_1 (InputLayer)            [(None, 224, 224, 3) 0                                            \n",
            "__________________________________________________________________________________________________\n",
            "conv2d (Conv2D)                 (None, 112, 112, 32) 864         input_1[0][0]                    \n",
            "__________________________________________________________________________________________________\n",
            "batch_normalization (BatchNorma (None, 112, 112, 32) 128         conv2d[0][0]                     \n",
            "__________________________________________________________________________________________________\n",
            "re_lu (ReLU)                    (None, 112, 112, 32) 0           batch_normalization[0][0]        \n",
            "__________________________________________________________________________________________________\n",
            "conv2d_1 (Conv2D)               (None, 112, 112, 32) 1024        re_lu[0][0]                      \n",
            "__________________________________________________________________________________________________\n",
            "batch_normalization_1 (BatchNor (None, 112, 112, 32) 128         conv2d_1[0][0]                   \n",
            "__________________________________________________________________________________________________\n",
            "re_lu_1 (ReLU)                  (None, 112, 112, 32) 0           batch_normalization_1[0][0]      \n",
            "__________________________________________________________________________________________________\n",
            "depthwise_conv2d (DepthwiseConv (None, 112, 112, 32) 288         re_lu_1[0][0]                    \n",
            "__________________________________________________________________________________________________\n",
            "batch_normalization_2 (BatchNor (None, 112, 112, 32) 128         depthwise_conv2d[0][0]           \n",
            "__________________________________________________________________________________________________\n",
            "re_lu_2 (ReLU)                  (None, 112, 112, 32) 0           batch_normalization_2[0][0]      \n",
            "__________________________________________________________________________________________________\n",
            "conv2d_2 (Conv2D)               (None, 112, 112, 16) 512         re_lu_2[0][0]                    \n",
            "__________________________________________________________________________________________________\n",
            "batch_normalization_3 (BatchNor (None, 112, 112, 16) 64          conv2d_2[0][0]                   \n",
            "__________________________________________________________________________________________________\n",
            "conv2d_3 (Conv2D)               (None, 112, 112, 96) 1536        batch_normalization_3[0][0]      \n",
            "__________________________________________________________________________________________________\n",
            "batch_normalization_4 (BatchNor (None, 112, 112, 96) 384         conv2d_3[0][0]                   \n",
            "__________________________________________________________________________________________________\n",
            "re_lu_3 (ReLU)                  (None, 112, 112, 96) 0           batch_normalization_4[0][0]      \n",
            "__________________________________________________________________________________________________\n",
            "depthwise_conv2d_1 (DepthwiseCo (None, 56, 56, 96)   864         re_lu_3[0][0]                    \n",
            "__________________________________________________________________________________________________\n",
            "batch_normalization_5 (BatchNor (None, 56, 56, 96)   384         depthwise_conv2d_1[0][0]         \n",
            "__________________________________________________________________________________________________\n",
            "re_lu_4 (ReLU)                  (None, 56, 56, 96)   0           batch_normalization_5[0][0]      \n",
            "__________________________________________________________________________________________________\n",
            "conv2d_4 (Conv2D)               (None, 56, 56, 24)   2304        re_lu_4[0][0]                    \n",
            "__________________________________________________________________________________________________\n",
            "batch_normalization_6 (BatchNor (None, 56, 56, 24)   96          conv2d_4[0][0]                   \n",
            "__________________________________________________________________________________________________\n",
            "conv2d_5 (Conv2D)               (None, 56, 56, 144)  3456        batch_normalization_6[0][0]      \n",
            "__________________________________________________________________________________________________\n",
            "batch_normalization_7 (BatchNor (None, 56, 56, 144)  576         conv2d_5[0][0]                   \n",
            "__________________________________________________________________________________________________\n",
            "re_lu_5 (ReLU)                  (None, 56, 56, 144)  0           batch_normalization_7[0][0]      \n",
            "__________________________________________________________________________________________________\n",
            "depthwise_conv2d_2 (DepthwiseCo (None, 56, 56, 144)  1296        re_lu_5[0][0]                    \n",
            "__________________________________________________________________________________________________\n",
            "batch_normalization_8 (BatchNor (None, 56, 56, 144)  576         depthwise_conv2d_2[0][0]         \n",
            "__________________________________________________________________________________________________\n",
            "re_lu_6 (ReLU)                  (None, 56, 56, 144)  0           batch_normalization_8[0][0]      \n",
            "__________________________________________________________________________________________________\n",
            "conv2d_6 (Conv2D)               (None, 56, 56, 24)   3456        re_lu_6[0][0]                    \n",
            "__________________________________________________________________________________________________\n",
            "batch_normalization_9 (BatchNor (None, 56, 56, 24)   96          conv2d_6[0][0]                   \n",
            "__________________________________________________________________________________________________\n",
            "add (Add)                       (None, 56, 56, 24)   0           batch_normalization_9[0][0]      \n",
            "                                                                 batch_normalization_6[0][0]      \n",
            "__________________________________________________________________________________________________\n",
            "conv2d_7 (Conv2D)               (None, 56, 56, 144)  3456        add[0][0]                        \n",
            "__________________________________________________________________________________________________\n",
            "batch_normalization_10 (BatchNo (None, 56, 56, 144)  576         conv2d_7[0][0]                   \n",
            "__________________________________________________________________________________________________\n",
            "re_lu_7 (ReLU)                  (None, 56, 56, 144)  0           batch_normalization_10[0][0]     \n",
            "__________________________________________________________________________________________________\n",
            "depthwise_conv2d_3 (DepthwiseCo (None, 28, 28, 144)  1296        re_lu_7[0][0]                    \n",
            "__________________________________________________________________________________________________\n",
            "batch_normalization_11 (BatchNo (None, 28, 28, 144)  576         depthwise_conv2d_3[0][0]         \n",
            "__________________________________________________________________________________________________\n",
            "re_lu_8 (ReLU)                  (None, 28, 28, 144)  0           batch_normalization_11[0][0]     \n",
            "__________________________________________________________________________________________________\n",
            "conv2d_8 (Conv2D)               (None, 28, 28, 32)   4608        re_lu_8[0][0]                    \n",
            "__________________________________________________________________________________________________\n",
            "batch_normalization_12 (BatchNo (None, 28, 28, 32)   128         conv2d_8[0][0]                   \n",
            "__________________________________________________________________________________________________\n",
            "conv2d_9 (Conv2D)               (None, 28, 28, 192)  6144        batch_normalization_12[0][0]     \n",
            "__________________________________________________________________________________________________\n",
            "batch_normalization_13 (BatchNo (None, 28, 28, 192)  768         conv2d_9[0][0]                   \n",
            "__________________________________________________________________________________________________\n",
            "re_lu_9 (ReLU)                  (None, 28, 28, 192)  0           batch_normalization_13[0][0]     \n",
            "__________________________________________________________________________________________________\n",
            "depthwise_conv2d_4 (DepthwiseCo (None, 28, 28, 192)  1728        re_lu_9[0][0]                    \n",
            "__________________________________________________________________________________________________\n",
            "batch_normalization_14 (BatchNo (None, 28, 28, 192)  768         depthwise_conv2d_4[0][0]         \n",
            "__________________________________________________________________________________________________\n",
            "re_lu_10 (ReLU)                 (None, 28, 28, 192)  0           batch_normalization_14[0][0]     \n",
            "__________________________________________________________________________________________________\n",
            "conv2d_10 (Conv2D)              (None, 28, 28, 32)   6144        re_lu_10[0][0]                   \n",
            "__________________________________________________________________________________________________\n",
            "batch_normalization_15 (BatchNo (None, 28, 28, 32)   128         conv2d_10[0][0]                  \n",
            "__________________________________________________________________________________________________\n",
            "add_1 (Add)                     (None, 28, 28, 32)   0           batch_normalization_15[0][0]     \n",
            "                                                                 batch_normalization_12[0][0]     \n",
            "__________________________________________________________________________________________________\n",
            "conv2d_11 (Conv2D)              (None, 28, 28, 192)  6144        add_1[0][0]                      \n",
            "__________________________________________________________________________________________________\n",
            "batch_normalization_16 (BatchNo (None, 28, 28, 192)  768         conv2d_11[0][0]                  \n",
            "__________________________________________________________________________________________________\n",
            "re_lu_11 (ReLU)                 (None, 28, 28, 192)  0           batch_normalization_16[0][0]     \n",
            "__________________________________________________________________________________________________\n",
            "depthwise_conv2d_5 (DepthwiseCo (None, 28, 28, 192)  1728        re_lu_11[0][0]                   \n",
            "__________________________________________________________________________________________________\n",
            "batch_normalization_17 (BatchNo (None, 28, 28, 192)  768         depthwise_conv2d_5[0][0]         \n",
            "__________________________________________________________________________________________________\n",
            "re_lu_12 (ReLU)                 (None, 28, 28, 192)  0           batch_normalization_17[0][0]     \n",
            "__________________________________________________________________________________________________\n",
            "conv2d_12 (Conv2D)              (None, 28, 28, 32)   6144        re_lu_12[0][0]                   \n",
            "__________________________________________________________________________________________________\n",
            "batch_normalization_18 (BatchNo (None, 28, 28, 32)   128         conv2d_12[0][0]                  \n",
            "__________________________________________________________________________________________________\n",
            "add_2 (Add)                     (None, 28, 28, 32)   0           batch_normalization_18[0][0]     \n",
            "                                                                 add_1[0][0]                      \n",
            "__________________________________________________________________________________________________\n",
            "conv2d_13 (Conv2D)              (None, 28, 28, 192)  6144        add_2[0][0]                      \n",
            "__________________________________________________________________________________________________\n",
            "batch_normalization_19 (BatchNo (None, 28, 28, 192)  768         conv2d_13[0][0]                  \n",
            "__________________________________________________________________________________________________\n",
            "re_lu_13 (ReLU)                 (None, 28, 28, 192)  0           batch_normalization_19[0][0]     \n",
            "__________________________________________________________________________________________________\n",
            "depthwise_conv2d_6 (DepthwiseCo (None, 14, 14, 192)  1728        re_lu_13[0][0]                   \n",
            "__________________________________________________________________________________________________\n",
            "batch_normalization_20 (BatchNo (None, 14, 14, 192)  768         depthwise_conv2d_6[0][0]         \n",
            "__________________________________________________________________________________________________\n",
            "re_lu_14 (ReLU)                 (None, 14, 14, 192)  0           batch_normalization_20[0][0]     \n",
            "__________________________________________________________________________________________________\n",
            "conv2d_14 (Conv2D)              (None, 14, 14, 64)   12288       re_lu_14[0][0]                   \n",
            "__________________________________________________________________________________________________\n",
            "batch_normalization_21 (BatchNo (None, 14, 14, 64)   256         conv2d_14[0][0]                  \n",
            "__________________________________________________________________________________________________\n",
            "conv2d_15 (Conv2D)              (None, 14, 14, 384)  24576       batch_normalization_21[0][0]     \n",
            "__________________________________________________________________________________________________\n",
            "batch_normalization_22 (BatchNo (None, 14, 14, 384)  1536        conv2d_15[0][0]                  \n",
            "__________________________________________________________________________________________________\n",
            "re_lu_15 (ReLU)                 (None, 14, 14, 384)  0           batch_normalization_22[0][0]     \n",
            "__________________________________________________________________________________________________\n",
            "depthwise_conv2d_7 (DepthwiseCo (None, 14, 14, 384)  3456        re_lu_15[0][0]                   \n",
            "__________________________________________________________________________________________________\n",
            "batch_normalization_23 (BatchNo (None, 14, 14, 384)  1536        depthwise_conv2d_7[0][0]         \n",
            "__________________________________________________________________________________________________\n",
            "re_lu_16 (ReLU)                 (None, 14, 14, 384)  0           batch_normalization_23[0][0]     \n",
            "__________________________________________________________________________________________________\n",
            "conv2d_16 (Conv2D)              (None, 14, 14, 64)   24576       re_lu_16[0][0]                   \n",
            "__________________________________________________________________________________________________\n",
            "batch_normalization_24 (BatchNo (None, 14, 14, 64)   256         conv2d_16[0][0]                  \n",
            "__________________________________________________________________________________________________\n",
            "add_3 (Add)                     (None, 14, 14, 64)   0           batch_normalization_24[0][0]     \n",
            "                                                                 batch_normalization_21[0][0]     \n",
            "__________________________________________________________________________________________________\n",
            "conv2d_17 (Conv2D)              (None, 14, 14, 384)  24576       add_3[0][0]                      \n",
            "__________________________________________________________________________________________________\n",
            "batch_normalization_25 (BatchNo (None, 14, 14, 384)  1536        conv2d_17[0][0]                  \n",
            "__________________________________________________________________________________________________\n",
            "re_lu_17 (ReLU)                 (None, 14, 14, 384)  0           batch_normalization_25[0][0]     \n",
            "__________________________________________________________________________________________________\n",
            "depthwise_conv2d_8 (DepthwiseCo (None, 14, 14, 384)  3456        re_lu_17[0][0]                   \n",
            "__________________________________________________________________________________________________\n",
            "batch_normalization_26 (BatchNo (None, 14, 14, 384)  1536        depthwise_conv2d_8[0][0]         \n",
            "__________________________________________________________________________________________________\n",
            "re_lu_18 (ReLU)                 (None, 14, 14, 384)  0           batch_normalization_26[0][0]     \n",
            "__________________________________________________________________________________________________\n",
            "conv2d_18 (Conv2D)              (None, 14, 14, 64)   24576       re_lu_18[0][0]                   \n",
            "__________________________________________________________________________________________________\n",
            "batch_normalization_27 (BatchNo (None, 14, 14, 64)   256         conv2d_18[0][0]                  \n",
            "__________________________________________________________________________________________________\n",
            "add_4 (Add)                     (None, 14, 14, 64)   0           batch_normalization_27[0][0]     \n",
            "                                                                 add_3[0][0]                      \n",
            "__________________________________________________________________________________________________\n",
            "conv2d_19 (Conv2D)              (None, 14, 14, 384)  24576       add_4[0][0]                      \n",
            "__________________________________________________________________________________________________\n",
            "batch_normalization_28 (BatchNo (None, 14, 14, 384)  1536        conv2d_19[0][0]                  \n",
            "__________________________________________________________________________________________________\n",
            "re_lu_19 (ReLU)                 (None, 14, 14, 384)  0           batch_normalization_28[0][0]     \n",
            "__________________________________________________________________________________________________\n",
            "depthwise_conv2d_9 (DepthwiseCo (None, 14, 14, 384)  3456        re_lu_19[0][0]                   \n",
            "__________________________________________________________________________________________________\n",
            "batch_normalization_29 (BatchNo (None, 14, 14, 384)  1536        depthwise_conv2d_9[0][0]         \n",
            "__________________________________________________________________________________________________\n",
            "re_lu_20 (ReLU)                 (None, 14, 14, 384)  0           batch_normalization_29[0][0]     \n",
            "__________________________________________________________________________________________________\n",
            "conv2d_20 (Conv2D)              (None, 14, 14, 64)   24576       re_lu_20[0][0]                   \n",
            "__________________________________________________________________________________________________\n",
            "batch_normalization_30 (BatchNo (None, 14, 14, 64)   256         conv2d_20[0][0]                  \n",
            "__________________________________________________________________________________________________\n",
            "add_5 (Add)                     (None, 14, 14, 64)   0           batch_normalization_30[0][0]     \n",
            "                                                                 add_4[0][0]                      \n",
            "__________________________________________________________________________________________________\n",
            "conv2d_21 (Conv2D)              (None, 14, 14, 384)  24576       add_5[0][0]                      \n",
            "__________________________________________________________________________________________________\n",
            "batch_normalization_31 (BatchNo (None, 14, 14, 384)  1536        conv2d_21[0][0]                  \n",
            "__________________________________________________________________________________________________\n",
            "re_lu_21 (ReLU)                 (None, 14, 14, 384)  0           batch_normalization_31[0][0]     \n",
            "__________________________________________________________________________________________________\n",
            "depthwise_conv2d_10 (DepthwiseC (None, 14, 14, 384)  3456        re_lu_21[0][0]                   \n",
            "__________________________________________________________________________________________________\n",
            "batch_normalization_32 (BatchNo (None, 14, 14, 384)  1536        depthwise_conv2d_10[0][0]        \n",
            "__________________________________________________________________________________________________\n",
            "re_lu_22 (ReLU)                 (None, 14, 14, 384)  0           batch_normalization_32[0][0]     \n",
            "__________________________________________________________________________________________________\n",
            "conv2d_22 (Conv2D)              (None, 14, 14, 96)   36864       re_lu_22[0][0]                   \n",
            "__________________________________________________________________________________________________\n",
            "batch_normalization_33 (BatchNo (None, 14, 14, 96)   384         conv2d_22[0][0]                  \n",
            "__________________________________________________________________________________________________\n",
            "conv2d_23 (Conv2D)              (None, 14, 14, 576)  55296       batch_normalization_33[0][0]     \n",
            "__________________________________________________________________________________________________\n",
            "batch_normalization_34 (BatchNo (None, 14, 14, 576)  2304        conv2d_23[0][0]                  \n",
            "__________________________________________________________________________________________________\n",
            "re_lu_23 (ReLU)                 (None, 14, 14, 576)  0           batch_normalization_34[0][0]     \n",
            "__________________________________________________________________________________________________\n",
            "depthwise_conv2d_11 (DepthwiseC (None, 14, 14, 576)  5184        re_lu_23[0][0]                   \n",
            "__________________________________________________________________________________________________\n",
            "batch_normalization_35 (BatchNo (None, 14, 14, 576)  2304        depthwise_conv2d_11[0][0]        \n",
            "__________________________________________________________________________________________________\n",
            "re_lu_24 (ReLU)                 (None, 14, 14, 576)  0           batch_normalization_35[0][0]     \n",
            "__________________________________________________________________________________________________\n",
            "conv2d_24 (Conv2D)              (None, 14, 14, 96)   55296       re_lu_24[0][0]                   \n",
            "__________________________________________________________________________________________________\n",
            "batch_normalization_36 (BatchNo (None, 14, 14, 96)   384         conv2d_24[0][0]                  \n",
            "__________________________________________________________________________________________________\n",
            "add_6 (Add)                     (None, 14, 14, 96)   0           batch_normalization_36[0][0]     \n",
            "                                                                 batch_normalization_33[0][0]     \n",
            "__________________________________________________________________________________________________\n",
            "conv2d_25 (Conv2D)              (None, 14, 14, 576)  55296       add_6[0][0]                      \n",
            "__________________________________________________________________________________________________\n",
            "batch_normalization_37 (BatchNo (None, 14, 14, 576)  2304        conv2d_25[0][0]                  \n",
            "__________________________________________________________________________________________________\n",
            "re_lu_25 (ReLU)                 (None, 14, 14, 576)  0           batch_normalization_37[0][0]     \n",
            "__________________________________________________________________________________________________\n",
            "depthwise_conv2d_12 (DepthwiseC (None, 14, 14, 576)  5184        re_lu_25[0][0]                   \n",
            "__________________________________________________________________________________________________\n",
            "batch_normalization_38 (BatchNo (None, 14, 14, 576)  2304        depthwise_conv2d_12[0][0]        \n",
            "__________________________________________________________________________________________________\n",
            "re_lu_26 (ReLU)                 (None, 14, 14, 576)  0           batch_normalization_38[0][0]     \n",
            "__________________________________________________________________________________________________\n",
            "conv2d_26 (Conv2D)              (None, 14, 14, 96)   55296       re_lu_26[0][0]                   \n",
            "__________________________________________________________________________________________________\n",
            "batch_normalization_39 (BatchNo (None, 14, 14, 96)   384         conv2d_26[0][0]                  \n",
            "__________________________________________________________________________________________________\n",
            "add_7 (Add)                     (None, 14, 14, 96)   0           batch_normalization_39[0][0]     \n",
            "                                                                 add_6[0][0]                      \n",
            "__________________________________________________________________________________________________\n",
            "conv2d_27 (Conv2D)              (None, 14, 14, 576)  55296       add_7[0][0]                      \n",
            "__________________________________________________________________________________________________\n",
            "batch_normalization_40 (BatchNo (None, 14, 14, 576)  2304        conv2d_27[0][0]                  \n",
            "__________________________________________________________________________________________________\n",
            "re_lu_27 (ReLU)                 (None, 14, 14, 576)  0           batch_normalization_40[0][0]     \n",
            "__________________________________________________________________________________________________\n",
            "depthwise_conv2d_13 (DepthwiseC (None, 7, 7, 576)    5184        re_lu_27[0][0]                   \n",
            "__________________________________________________________________________________________________\n",
            "batch_normalization_41 (BatchNo (None, 7, 7, 576)    2304        depthwise_conv2d_13[0][0]        \n",
            "__________________________________________________________________________________________________\n",
            "re_lu_28 (ReLU)                 (None, 7, 7, 576)    0           batch_normalization_41[0][0]     \n",
            "__________________________________________________________________________________________________\n",
            "conv2d_28 (Conv2D)              (None, 7, 7, 160)    92160       re_lu_28[0][0]                   \n",
            "__________________________________________________________________________________________________\n",
            "batch_normalization_42 (BatchNo (None, 7, 7, 160)    640         conv2d_28[0][0]                  \n",
            "__________________________________________________________________________________________________\n",
            "conv2d_29 (Conv2D)              (None, 7, 7, 960)    153600      batch_normalization_42[0][0]     \n",
            "__________________________________________________________________________________________________\n",
            "batch_normalization_43 (BatchNo (None, 7, 7, 960)    3840        conv2d_29[0][0]                  \n",
            "__________________________________________________________________________________________________\n",
            "re_lu_29 (ReLU)                 (None, 7, 7, 960)    0           batch_normalization_43[0][0]     \n",
            "__________________________________________________________________________________________________\n",
            "depthwise_conv2d_14 (DepthwiseC (None, 7, 7, 960)    8640        re_lu_29[0][0]                   \n",
            "__________________________________________________________________________________________________\n",
            "batch_normalization_44 (BatchNo (None, 7, 7, 960)    3840        depthwise_conv2d_14[0][0]        \n",
            "__________________________________________________________________________________________________\n",
            "re_lu_30 (ReLU)                 (None, 7, 7, 960)    0           batch_normalization_44[0][0]     \n",
            "__________________________________________________________________________________________________\n",
            "conv2d_30 (Conv2D)              (None, 7, 7, 160)    153600      re_lu_30[0][0]                   \n",
            "__________________________________________________________________________________________________\n",
            "batch_normalization_45 (BatchNo (None, 7, 7, 160)    640         conv2d_30[0][0]                  \n",
            "__________________________________________________________________________________________________\n",
            "add_8 (Add)                     (None, 7, 7, 160)    0           batch_normalization_45[0][0]     \n",
            "                                                                 batch_normalization_42[0][0]     \n",
            "__________________________________________________________________________________________________\n",
            "conv2d_31 (Conv2D)              (None, 7, 7, 960)    153600      add_8[0][0]                      \n",
            "__________________________________________________________________________________________________\n",
            "batch_normalization_46 (BatchNo (None, 7, 7, 960)    3840        conv2d_31[0][0]                  \n",
            "__________________________________________________________________________________________________\n",
            "re_lu_31 (ReLU)                 (None, 7, 7, 960)    0           batch_normalization_46[0][0]     \n",
            "__________________________________________________________________________________________________\n",
            "depthwise_conv2d_15 (DepthwiseC (None, 7, 7, 960)    8640        re_lu_31[0][0]                   \n",
            "__________________________________________________________________________________________________\n",
            "batch_normalization_47 (BatchNo (None, 7, 7, 960)    3840        depthwise_conv2d_15[0][0]        \n",
            "__________________________________________________________________________________________________\n",
            "re_lu_32 (ReLU)                 (None, 7, 7, 960)    0           batch_normalization_47[0][0]     \n",
            "__________________________________________________________________________________________________\n",
            "conv2d_32 (Conv2D)              (None, 7, 7, 160)    153600      re_lu_32[0][0]                   \n",
            "__________________________________________________________________________________________________\n",
            "batch_normalization_48 (BatchNo (None, 7, 7, 160)    640         conv2d_32[0][0]                  \n",
            "__________________________________________________________________________________________________\n",
            "add_9 (Add)                     (None, 7, 7, 160)    0           batch_normalization_48[0][0]     \n",
            "                                                                 add_8[0][0]                      \n",
            "__________________________________________________________________________________________________\n",
            "conv2d_33 (Conv2D)              (None, 7, 7, 960)    153600      add_9[0][0]                      \n",
            "__________________________________________________________________________________________________\n",
            "batch_normalization_49 (BatchNo (None, 7, 7, 960)    3840        conv2d_33[0][0]                  \n",
            "__________________________________________________________________________________________________\n",
            "re_lu_33 (ReLU)                 (None, 7, 7, 960)    0           batch_normalization_49[0][0]     \n",
            "__________________________________________________________________________________________________\n",
            "depthwise_conv2d_16 (DepthwiseC (None, 7, 7, 960)    8640        re_lu_33[0][0]                   \n",
            "__________________________________________________________________________________________________\n",
            "batch_normalization_50 (BatchNo (None, 7, 7, 960)    3840        depthwise_conv2d_16[0][0]        \n",
            "__________________________________________________________________________________________________\n",
            "re_lu_34 (ReLU)                 (None, 7, 7, 960)    0           batch_normalization_50[0][0]     \n",
            "__________________________________________________________________________________________________\n",
            "conv2d_34 (Conv2D)              (None, 7, 7, 320)    307200      re_lu_34[0][0]                   \n",
            "__________________________________________________________________________________________________\n",
            "batch_normalization_51 (BatchNo (None, 7, 7, 320)    1280        conv2d_34[0][0]                  \n",
            "__________________________________________________________________________________________________\n",
            "conv2d_35 (Conv2D)              (None, 7, 7, 1280)   409600      batch_normalization_51[0][0]     \n",
            "__________________________________________________________________________________________________\n",
            "batch_normalization_52 (BatchNo (None, 7, 7, 1280)   5120        conv2d_35[0][0]                  \n",
            "__________________________________________________________________________________________________\n",
            "re_lu_35 (ReLU)                 (None, 7, 7, 1280)   0           batch_normalization_52[0][0]     \n",
            "__________________________________________________________________________________________________\n",
            "average_pooling2d (AveragePooli (None, 1, 1, 1280)   0           re_lu_35[0][0]                   \n",
            "__________________________________________________________________________________________________\n",
            "flatten (Flatten)               (None, 1280)         0           average_pooling2d[0][0]          \n",
            "__________________________________________________________________________________________________\n",
            "dense (Dense)                   (None, 24)           30744       flatten[0][0]                    \n",
            "==================================================================================================\n",
            "Total params: 2,289,880\n",
            "Trainable params: 2,255,704\n",
            "Non-trainable params: 34,176\n",
            "__________________________________________________________________________________________________\n"
          ],
          "name": "stdout"
        }
      ]
    },
    {
      "cell_type": "markdown",
      "metadata": {
        "id": "m2FOvR-6Ct0j",
        "colab_type": "text"
      },
      "source": [
        "#Training the Model"
      ]
    },
    {
      "cell_type": "markdown",
      "metadata": {
        "id": "awIDCqtdC1IL",
        "colab_type": "text"
      },
      "source": [
        "We compile the model with `Adam` optimizer with 0.001 learning rate and `sparse_catergorical_crossentropy` loss. The model will be saved after every epoch via `tf.keras.callbacks.ModelCheckpoint`."
      ]
    },
    {
      "cell_type": "code",
      "metadata": {
        "id": "1I04ZVBICp3r",
        "colab_type": "code",
        "colab": {}
      },
      "source": [
        "# Compile the model with Adam optimizer\n",
        "model.compile(optimizer=tf.keras.optimizers.Adam(lr=0.001), loss='sparse_categorical_crossentropy', metrics=['accuracy'])\n",
        "\n",
        "# Directory where the checkpoints will be saved\n",
        "checkpoint_dir = './training_checkpoints'\n",
        "!mkdir training_checkpoints\n",
        "\n",
        "# Name of the checkpoint files\n",
        "checkpoint_prefix = os.path.join(checkpoint_dir, \"{epoch:02d}-{val_loss:.3f}-{val_acc:.3f}.hdf5\")\n",
        "\n",
        "checkpoint_callback=tf.keras.callbacks.ModelCheckpoint(filepath=checkpoint_prefix)"
      ],
      "execution_count": 0,
      "outputs": []
    },
    {
      "cell_type": "markdown",
      "metadata": {
        "id": "6vNVxY6oC6yy",
        "colab_type": "text"
      },
      "source": [
        "Let’s say we would like to train the model for 30 epochs. Each epoch takes around 30 seconds with GPU on Colab, so 30 epochs only take 15 to 20 minutes in total. We should notice that the batch size is 32 here."
      ]
    },
    {
      "cell_type": "code",
      "metadata": {
        "id": "FH9NTZrgC4qs",
        "colab_type": "code",
        "colab": {}
      },
      "source": [
        "epochs = 30\n",
        "steps_per_epoch = n_train // BATCH_SIZE if n_train % BATCH_SIZE == 0 else n_train // BATCH_SIZE + 1 # 75 steps\n",
        "validation_steps = n_valid // BATCH_SIZE if n_valid % BATCH_SIZE == 0 else n_valid // BATCH_SIZE + 1 # 19 steps"
      ],
      "execution_count": 0,
      "outputs": []
    },
    {
      "cell_type": "markdown",
      "metadata": {
        "id": "ErYh68-qC-ib",
        "colab_type": "text"
      },
      "source": [
        "Below are the codes for model training using Keras Model `fit` method."
      ]
    },
    {
      "cell_type": "code",
      "metadata": {
        "id": "LJPXKoWjC85l",
        "colab_type": "code",
        "outputId": "61c515be-86ef-4a44-dbde-3fe9e3f8ff3c",
        "colab": {
          "base_uri": "https://localhost:8080/",
          "height": 1037
        }
      },
      "source": [
        "model_histroy = model.fit(\n",
        "    tr_ds.make_one_shot_iterator(),\n",
        "    epochs=epochs,\n",
        "    steps_per_epoch=steps_per_epoch,\n",
        "    validation_data=va_ds.make_one_shot_iterator(),\n",
        "    validation_steps=validation_steps,\n",
        "    callbacks=[checkpoint_callback],\n",
        ")"
      ],
      "execution_count": 0,
      "outputs": [
        {
          "output_type": "stream",
          "text": [
            "Epoch 1/30\n",
            "75/75 [==============================] - 67s 892ms/step - loss: 2.8416 - acc: 0.1354 - val_loss: 3.3145 - val_acc: 0.0395\n",
            "Epoch 2/30\n",
            "75/75 [==============================] - 23s 309ms/step - loss: 2.0638 - acc: 0.3058 - val_loss: 3.4940 - val_acc: 0.0461\n",
            "Epoch 3/30\n",
            "75/75 [==============================] - 23s 308ms/step - loss: 1.5574 - acc: 0.4683 - val_loss: 4.3750 - val_acc: 0.0428\n",
            "Epoch 4/30\n",
            "75/75 [==============================] - 23s 311ms/step - loss: 1.1224 - acc: 0.6196 - val_loss: 4.7229 - val_acc: 0.0395\n",
            "Epoch 5/30\n",
            "75/75 [==============================] - 24s 316ms/step - loss: 0.9008 - acc: 0.7008 - val_loss: 6.0347 - val_acc: 0.0395\n",
            "Epoch 6/30\n",
            "75/75 [==============================] - 23s 312ms/step - loss: 0.7941 - acc: 0.7404 - val_loss: 6.9076 - val_acc: 0.0526\n",
            "Epoch 7/30\n",
            "75/75 [==============================] - 23s 307ms/step - loss: 0.6767 - acc: 0.7696 - val_loss: 8.1069 - val_acc: 0.0411\n",
            "Epoch 8/30\n",
            "75/75 [==============================] - 23s 307ms/step - loss: 0.5018 - acc: 0.8325 - val_loss: 8.2230 - val_acc: 0.0576\n",
            "Epoch 9/30\n",
            "75/75 [==============================] - 23s 311ms/step - loss: 0.4865 - acc: 0.8404 - val_loss: 1.5299 - val_acc: 0.5444\n",
            "Epoch 10/30\n",
            "75/75 [==============================] - 23s 307ms/step - loss: 0.4244 - acc: 0.8537 - val_loss: 1.4450 - val_acc: 0.6020\n",
            "Epoch 11/30\n",
            "75/75 [==============================] - 23s 311ms/step - loss: 0.3316 - acc: 0.8971 - val_loss: 2.2515 - val_acc: 0.5280\n",
            "Epoch 12/30\n",
            "75/75 [==============================] - 23s 304ms/step - loss: 0.3695 - acc: 0.8808 - val_loss: 1.8480 - val_acc: 0.5888\n",
            "Epoch 13/30\n",
            "75/75 [==============================] - 23s 304ms/step - loss: 0.2698 - acc: 0.9154 - val_loss: 1.9730 - val_acc: 0.5247\n",
            "Epoch 14/30\n",
            "75/75 [==============================] - 23s 303ms/step - loss: 0.2444 - acc: 0.9242 - val_loss: 4.4937 - val_acc: 0.2993\n",
            "Epoch 15/30\n",
            "75/75 [==============================] - 23s 303ms/step - loss: 0.2199 - acc: 0.9283 - val_loss: 3.6808 - val_acc: 0.3766\n",
            "Epoch 16/30\n",
            "75/75 [==============================] - 23s 311ms/step - loss: 0.2064 - acc: 0.9325 - val_loss: 3.4211 - val_acc: 0.4457\n",
            "Epoch 17/30\n",
            "75/75 [==============================] - 23s 301ms/step - loss: 0.2001 - acc: 0.9354 - val_loss: 5.7090 - val_acc: 0.3207\n",
            "Epoch 18/30\n",
            "75/75 [==============================] - 23s 303ms/step - loss: 0.1733 - acc: 0.9471 - val_loss: 2.1005 - val_acc: 0.6250\n",
            "Epoch 19/30\n",
            "75/75 [==============================] - 23s 307ms/step - loss: 0.1544 - acc: 0.9496 - val_loss: 1.4120 - val_acc: 0.6382\n",
            "Epoch 20/30\n",
            "75/75 [==============================] - 23s 305ms/step - loss: 0.1746 - acc: 0.9392 - val_loss: 2.4080 - val_acc: 0.5740\n",
            "Epoch 21/30\n",
            "75/75 [==============================] - 23s 302ms/step - loss: 0.1707 - acc: 0.9400 - val_loss: 1.6427 - val_acc: 0.6086\n",
            "Epoch 22/30\n",
            "75/75 [==============================] - 23s 301ms/step - loss: 0.1599 - acc: 0.9475 - val_loss: 2.2443 - val_acc: 0.5724\n",
            "Epoch 23/30\n",
            "75/75 [==============================] - 23s 311ms/step - loss: 0.0937 - acc: 0.9737 - val_loss: 1.5050 - val_acc: 0.6678\n",
            "Epoch 24/30\n",
            "75/75 [==============================] - 23s 301ms/step - loss: 0.1077 - acc: 0.9646 - val_loss: 2.5431 - val_acc: 0.6069\n",
            "Epoch 25/30\n",
            "75/75 [==============================] - 23s 302ms/step - loss: 0.1396 - acc: 0.9583 - val_loss: 1.6115 - val_acc: 0.6941\n",
            "Epoch 26/30\n",
            "75/75 [==============================] - 22s 298ms/step - loss: 0.1230 - acc: 0.9575 - val_loss: 2.5584 - val_acc: 0.4836\n",
            "Epoch 27/30\n",
            "75/75 [==============================] - 23s 304ms/step - loss: 0.1296 - acc: 0.9558 - val_loss: 1.5736 - val_acc: 0.6661\n",
            "Epoch 28/30\n",
            "75/75 [==============================] - 23s 301ms/step - loss: 0.0861 - acc: 0.9725 - val_loss: 1.3955 - val_acc: 0.7697\n",
            "Epoch 29/30\n",
            "75/75 [==============================] - 23s 301ms/step - loss: 0.0557 - acc: 0.9804 - val_loss: 1.7973 - val_acc: 0.6546\n",
            "Epoch 30/30\n",
            "75/75 [==============================] - 23s 310ms/step - loss: 0.0959 - acc: 0.9704 - val_loss: 1.1938 - val_acc: 0.6809\n"
          ],
          "name": "stdout"
        }
      ]
    },
    {
      "cell_type": "markdown",
      "metadata": {
        "id": "TJm1AURlDRwb",
        "colab_type": "text"
      },
      "source": [
        "After only 30-epoch training, the model can achieve above 60% validation accuracy. You are encouraged to train the model for more epochs. The model in the demo achieved about 80% validation accuracy after 100-epoch training, and it took less than an hour!"
      ]
    },
    {
      "cell_type": "markdown",
      "metadata": {
        "id": "63Gs9swkDXmx",
        "colab_type": "text"
      },
      "source": [
        "#Convert the Model"
      ]
    },
    {
      "cell_type": "markdown",
      "metadata": {
        "colab_type": "text",
        "id": "MhUHkNenNY0o"
      },
      "source": [
        "In this section, we will learn how to install TensorFLow.js and how to save the Keras model in TensorFlow.js Layers format for web application.\n",
        "\n",
        "First, we should restart the Colab runtime (ctrl+\"M\"+\".\"). Then we install Tensorflow.js on Colab using `pip`."
      ]
    },
    {
      "cell_type": "code",
      "metadata": {
        "id": "1vs2gA0iDBoJ",
        "colab_type": "code",
        "outputId": "f911cede-fb72-48b8-ee26-3d4502062be8",
        "colab": {
          "base_uri": "https://localhost:8080/",
          "height": 1092
        }
      },
      "source": [
        "!pip install tensorflowjs"
      ],
      "execution_count": 0,
      "outputs": [
        {
          "output_type": "stream",
          "text": [
            "Collecting tensorflowjs\n",
            "  Downloading https://files.pythonhosted.org/packages/79/29/35e1aa467436ff46b98df65a08c49faaedb3429e1c512d1d90fe308040a0/tensorflowjs-1.0.1-py3-none-any.whl\n",
            "Requirement already satisfied: six==1.11.0 in /usr/local/lib/python3.6/dist-packages (from tensorflowjs) (1.11.0)\n",
            "Collecting tf-nightly-2.0-preview>=2.0.0.dev20190304 (from tensorflowjs)\n",
            "\u001b[?25l  Downloading https://files.pythonhosted.org/packages/d4/a6/bcaf6590ce6b0aa26fe010efaa538459b292bd7a868da6d5112c3543d2b2/tf_nightly_2.0_preview-2.0.0.dev20190417-cp36-cp36m-manylinux1_x86_64.whl (86.7MB)\n",
            "\u001b[K    100% |████████████████████████████████| 86.7MB 444kB/s \n",
            "\u001b[?25hRequirement already satisfied: h5py==2.8.0 in /usr/local/lib/python3.6/dist-packages (from tensorflowjs) (2.8.0)\n",
            "Requirement already satisfied: keras==2.2.4 in /usr/local/lib/python3.6/dist-packages (from tensorflowjs) (2.2.4)\n",
            "Collecting tensorflow-hub==0.3.0 (from tensorflowjs)\n",
            "\u001b[?25l  Downloading https://files.pythonhosted.org/packages/9e/f0/3a3ced04c8359e562f1b91918d9bde797c8a916fcfeddc8dc5d673d1be20/tensorflow_hub-0.3.0-py2.py3-none-any.whl (73kB)\n",
            "\u001b[K    100% |████████████████████████████████| 81kB 27.9MB/s \n",
            "\u001b[?25hCollecting numpy==1.15.1 (from tensorflowjs)\n",
            "\u001b[?25l  Downloading https://files.pythonhosted.org/packages/fe/94/7049fed8373c52839c8cde619acaf2c9b83082b935e5aa8c0fa27a4a8bcc/numpy-1.15.1-cp36-cp36m-manylinux1_x86_64.whl (13.9MB)\n",
            "\u001b[K    100% |████████████████████████████████| 13.9MB 3.1MB/s \n",
            "\u001b[?25hRequirement already satisfied: grpcio>=1.8.6 in /usr/local/lib/python3.6/dist-packages (from tf-nightly-2.0-preview>=2.0.0.dev20190304->tensorflowjs) (1.15.0)\n",
            "Collecting google-pasta>=0.1.2 (from tf-nightly-2.0-preview>=2.0.0.dev20190304->tensorflowjs)\n",
            "\u001b[?25l  Downloading https://files.pythonhosted.org/packages/64/bb/f1bbc131d6294baa6085a222d29abadd012696b73dcbf8cf1bf56b9f082a/google_pasta-0.1.5-py3-none-any.whl (51kB)\n",
            "\u001b[K    100% |████████████████████████████████| 61kB 30.9MB/s \n",
            "\u001b[?25hRequirement already satisfied: astor>=0.6.0 in /usr/local/lib/python3.6/dist-packages (from tf-nightly-2.0-preview>=2.0.0.dev20190304->tensorflowjs) (0.7.1)\n",
            "Requirement already satisfied: gast>=0.2.0 in /usr/local/lib/python3.6/dist-packages (from tf-nightly-2.0-preview>=2.0.0.dev20190304->tensorflowjs) (0.2.2)\n",
            "Collecting wrapt>=1.11.1 (from tf-nightly-2.0-preview>=2.0.0.dev20190304->tensorflowjs)\n",
            "  Downloading https://files.pythonhosted.org/packages/67/b2/0f71ca90b0ade7fad27e3d20327c996c6252a2ffe88f50a95bba7434eda9/wrapt-1.11.1.tar.gz\n",
            "Requirement already satisfied: protobuf>=3.6.1 in /usr/local/lib/python3.6/dist-packages (from tf-nightly-2.0-preview>=2.0.0.dev20190304->tensorflowjs) (3.7.1)\n",
            "Requirement already satisfied: keras-preprocessing>=1.0.5 in /usr/local/lib/python3.6/dist-packages (from tf-nightly-2.0-preview>=2.0.0.dev20190304->tensorflowjs) (1.0.9)\n",
            "Collecting tb-nightly<1.15.0a0,>=1.14.0a0 (from tf-nightly-2.0-preview>=2.0.0.dev20190304->tensorflowjs)\n",
            "\u001b[?25l  Downloading https://files.pythonhosted.org/packages/0f/44/89e982ce05387d38a763f85b3cdacf65cefb02a7c29ce92067513dab648a/tb_nightly-1.14.0a20190417-py3-none-any.whl (3.0MB)\n",
            "\u001b[K    100% |████████████████████████████████| 3.0MB 9.6MB/s \n",
            "\u001b[?25hRequirement already satisfied: wheel>=0.26 in /usr/local/lib/python3.6/dist-packages (from tf-nightly-2.0-preview>=2.0.0.dev20190304->tensorflowjs) (0.33.1)\n",
            "Requirement already satisfied: termcolor>=1.1.0 in /usr/local/lib/python3.6/dist-packages (from tf-nightly-2.0-preview>=2.0.0.dev20190304->tensorflowjs) (1.1.0)\n",
            "Collecting tensorflow-estimator-2.0-preview (from tf-nightly-2.0-preview>=2.0.0.dev20190304->tensorflowjs)\n",
            "\u001b[?25l  Downloading https://files.pythonhosted.org/packages/fe/78/162053ab236e09520c834d48e33c5f7654c5c1f81a13febb846ecea78119/tensorflow_estimator_2.0_preview-1.14.0.dev2019041800-py2.py3-none-any.whl (420kB)\n",
            "\u001b[K    100% |████████████████████████████████| 430kB 18.4MB/s \n",
            "\u001b[?25hRequirement already satisfied: absl-py>=0.7.0 in /usr/local/lib/python3.6/dist-packages (from tf-nightly-2.0-preview>=2.0.0.dev20190304->tensorflowjs) (0.7.1)\n",
            "Requirement already satisfied: keras-applications>=1.0.6 in /usr/local/lib/python3.6/dist-packages (from tf-nightly-2.0-preview>=2.0.0.dev20190304->tensorflowjs) (1.0.7)\n",
            "Requirement already satisfied: scipy>=0.14 in /usr/local/lib/python3.6/dist-packages (from keras==2.2.4->tensorflowjs) (1.2.1)\n",
            "Requirement already satisfied: pyyaml in /usr/local/lib/python3.6/dist-packages (from keras==2.2.4->tensorflowjs) (3.13)\n",
            "Requirement already satisfied: setuptools in /usr/local/lib/python3.6/dist-packages (from protobuf>=3.6.1->tf-nightly-2.0-preview>=2.0.0.dev20190304->tensorflowjs) (40.9.0)\n",
            "Requirement already satisfied: werkzeug>=0.11.15 in /usr/local/lib/python3.6/dist-packages (from tb-nightly<1.15.0a0,>=1.14.0a0->tf-nightly-2.0-preview>=2.0.0.dev20190304->tensorflowjs) (0.15.2)\n",
            "Requirement already satisfied: markdown>=2.6.8 in /usr/local/lib/python3.6/dist-packages (from tb-nightly<1.15.0a0,>=1.14.0a0->tf-nightly-2.0-preview>=2.0.0.dev20190304->tensorflowjs) (3.1)\n",
            "Building wheels for collected packages: wrapt\n",
            "  Building wheel for wrapt (setup.py) ... \u001b[?25ldone\n",
            "\u001b[?25h  Stored in directory: /root/.cache/pip/wheels/89/67/41/63cbf0f6ac0a6156588b9587be4db5565f8c6d8ccef98202fc\n",
            "Successfully built wrapt\n",
            "\u001b[31mthinc 6.12.1 has requirement wrapt<1.11.0,>=1.10.0, but you'll have wrapt 1.11.1 which is incompatible.\u001b[0m\n",
            "\u001b[31mdatascience 0.10.6 has requirement folium==0.2.1, but you'll have folium 0.8.3 which is incompatible.\u001b[0m\n",
            "\u001b[31malbumentations 0.1.12 has requirement imgaug<0.2.7,>=0.2.5, but you'll have imgaug 0.2.8 which is incompatible.\u001b[0m\n",
            "Installing collected packages: google-pasta, wrapt, numpy, tb-nightly, tensorflow-estimator-2.0-preview, tf-nightly-2.0-preview, tensorflow-hub, tensorflowjs\n",
            "  Found existing installation: wrapt 1.10.11\n",
            "    Uninstalling wrapt-1.10.11:\n",
            "      Successfully uninstalled wrapt-1.10.11\n",
            "  Found existing installation: numpy 1.16.2\n",
            "    Uninstalling numpy-1.16.2:\n",
            "      Successfully uninstalled numpy-1.16.2\n",
            "  Found existing installation: tensorflow-hub 0.4.0\n",
            "    Uninstalling tensorflow-hub-0.4.0:\n",
            "      Successfully uninstalled tensorflow-hub-0.4.0\n",
            "Successfully installed google-pasta-0.1.5 numpy-1.15.1 tb-nightly-1.14.0a20190417 tensorflow-estimator-2.0-preview-1.14.0.dev2019041800 tensorflow-hub-0.3.0 tensorflowjs-1.0.1 tf-nightly-2.0-preview-2.0.0.dev20190417 wrapt-1.11.1\n"
          ],
          "name": "stdout"
        },
        {
          "output_type": "display_data",
          "data": {
            "application/vnd.colab-display-data+json": {
              "pip_warning": {
                "packages": [
                  "numpy"
                ]
              }
            }
          },
          "metadata": {
            "tags": []
          }
        }
      ]
    },
    {
      "cell_type": "markdown",
      "metadata": {
        "id": "8tC-ulVtEUAH",
        "colab_type": "text"
      },
      "source": [
        "Next, we run the same codes in [Preparing the Data](#Preparing-the-Data) and [MobileNetV2](#MobileNetV2) sections. Then we take a look at the training checkpoints."
      ]
    },
    {
      "cell_type": "code",
      "metadata": {
        "id": "u7YOFgPJEUj-",
        "colab_type": "code",
        "outputId": "0fd1829f-bf60-4ab8-9f0c-f6ccc7bb0da1",
        "colab": {
          "base_uri": "https://localhost:8080/",
          "height": 187
        }
      },
      "source": [
        "!ls training_checkpoints/"
      ],
      "execution_count": 0,
      "outputs": [
        {
          "output_type": "stream",
          "text": [
            "01-3.315-0.039.hdf5  11-2.251-0.528.hdf5  21-1.643-0.609.hdf5\n",
            "02-3.494-0.046.hdf5  12-1.848-0.589.hdf5  22-2.244-0.572.hdf5\n",
            "03-4.375-0.043.hdf5  13-1.973-0.525.hdf5  23-1.505-0.668.hdf5\n",
            "04-4.723-0.039.hdf5  14-4.494-0.299.hdf5  24-2.543-0.607.hdf5\n",
            "05-6.035-0.039.hdf5  15-3.681-0.377.hdf5  25-1.612-0.694.hdf5\n",
            "06-6.908-0.053.hdf5  16-3.421-0.446.hdf5  26-2.558-0.484.hdf5\n",
            "07-8.107-0.041.hdf5  17-5.709-0.321.hdf5  27-1.574-0.666.hdf5\n",
            "08-8.223-0.058.hdf5  18-2.100-0.625.hdf5  28-1.395-0.770.hdf5\n",
            "09-1.530-0.544.hdf5  19-1.412-0.638.hdf5  29-1.797-0.655.hdf5\n",
            "10-1.445-0.602.hdf5  20-2.408-0.574.hdf5  30-1.194-0.681.hdf5\n"
          ],
          "name": "stdout"
        }
      ]
    },
    {
      "cell_type": "markdown",
      "metadata": {
        "id": "_eIS3OfgEXy3",
        "colab_type": "text"
      },
      "source": [
        "We can pick one of the checkpoints and load its weights. Here we pick the one with the best validation accuracy (the last float number in the file name `epoch-val loss-val acc.hdf5`):"
      ]
    },
    {
      "cell_type": "code",
      "metadata": {
        "id": "w1F6PaA2EZ71",
        "colab_type": "code",
        "colab": {}
      },
      "source": [
        "model.load_weights('training_checkpoints/28-1.395-0.770.hdf5')"
      ],
      "execution_count": 0,
      "outputs": []
    },
    {
      "cell_type": "markdown",
      "metadata": {
        "id": "X7iaKQ_XEcrC",
        "colab_type": "text"
      },
      "source": [
        "The following codes show how to save the metadata and the Keras model in TensorFlow.js Layers format in the `model_js` folder."
      ]
    },
    {
      "cell_type": "code",
      "metadata": {
        "id": "0rcYR9PAEn4e",
        "colab_type": "code",
        "colab": {}
      },
      "source": [
        "import json\n",
        "import tensorflowjs as tfjs\n",
        "MODEL_DIR = 'model_js'\n",
        "if not os.path.exists(MODEL_DIR): \n",
        "    os.mkdir(MODEL_DIR)\n",
        "\n",
        "metadata = {\n",
        "    'alphabet2int': alphabet2int,\n",
        "    'int2alphabet': int2alphabet,\n",
        "    'image_size': image_size,\n",
        "    'RGB_mean': list(RGB_mean)\n",
        "}\n",
        "\n",
        "metadata_json_path = os.path.join(MODEL_DIR, 'metadata.json')\n",
        "json.dump(metadata, open(metadata_json_path, 'wt'))\n",
        "tfjs.converters.save_keras_model(model, MODEL_DIR)\n",
        "\n",
        "!ls model_js"
      ],
      "execution_count": 0,
      "outputs": []
    },
    {
      "cell_type": "markdown",
      "metadata": {
        "id": "ldp7QgS_ErEF",
        "colab_type": "text"
      },
      "source": [
        "The `model_js` folder contains 5 files: (1) `model.json` (model architecture); (2) 3 `group1-shardXof3` files (model weights); (3) `metadata.json` (metadata). Then we compress the `model_js` folder and download it (~ 8 MB) to the local file system."
      ]
    },
    {
      "cell_type": "code",
      "metadata": {
        "id": "IonwocztEu9P",
        "colab_type": "code",
        "outputId": "0ec3b887-1e0a-4b87-db97-a77b9fca8bcd",
        "colab": {
          "base_uri": "https://localhost:8080/",
          "height": 119
        }
      },
      "source": [
        "!zip -r model_js.zip model_js\n",
        "\n",
        "from google.colab import files\n",
        "downloaded = files.download('model_js.zip')"
      ],
      "execution_count": 0,
      "outputs": [
        {
          "output_type": "stream",
          "text": [
            "  adding: model_js/ (stored 0%)\n",
            "  adding: model_js/group1-shard2of3.bin (deflated 8%)\n",
            "  adding: model_js/metadata.json (deflated 55%)\n",
            "  adding: model_js/group1-shard3of3.bin (deflated 8%)\n",
            "  adding: model_js/group1-shard1of3.bin (deflated 8%)\n",
            "  adding: model_js/model.json (deflated 95%)\n"
          ],
          "name": "stdout"
        }
      ]
    },
    {
      "cell_type": "code",
      "metadata": {
        "id": "Ar9swd4Enuoo",
        "colab_type": "code",
        "colab": {}
      },
      "source": [
        ""
      ],
      "execution_count": 0,
      "outputs": []
    }
  ]
}